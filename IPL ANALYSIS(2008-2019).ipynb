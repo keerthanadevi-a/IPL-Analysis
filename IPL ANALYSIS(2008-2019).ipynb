{
 "cells": [
  {
   "cell_type": "markdown",
   "metadata": {},
   "source": [
    "# IPL ANALYSIS (2008-2019)"
   ]
  },
  {
   "cell_type": "markdown",
   "metadata": {},
   "source": [
    "# IMPORTING"
   ]
  },
  {
   "cell_type": "code",
   "execution_count": 3,
   "metadata": {},
   "outputs": [],
   "source": [
    "#Importing required libraries in python\n",
    "import pandas as pd\n",
    "from matplotlib import pyplot as plt\n",
    "import numpy as np\n",
    "import seaborn as sns\n",
    "from scipy.stats import bernoulli\n",
    "import numpy as np\n",
    "from scipy.stats import uniform\n",
    "from scipy.integrate import quad\n",
    "from scipy.stats import norm\n",
    "from scipy import stats\n",
    "from numpy import sqrt,abs,round\n",
    "from sklearn.linear_model import LinearRegression\n",
    "from math import sqrt"
   ]
  },
  {
   "cell_type": "code",
   "execution_count": 4,
   "metadata": {},
   "outputs": [],
   "source": [
    "#Importing IPL datasets\n",
    "deliveries = pd.read_csv (r'D:\\Keethu\\MSc data science\\2nd sem\\ipl project\\deliveries.csv')\n",
    "matches=pd.read_csv (r'D:\\Keethu\\MSc data science\\2nd sem\\ipl project\\matches.csv')"
   ]
  },
  {
   "cell_type": "markdown",
   "metadata": {},
   "source": [
    "# DATA CLEANING"
   ]
  },
  {
   "cell_type": "code",
   "execution_count": 5,
   "metadata": {},
   "outputs": [
    {
     "data": {
      "text/plain": [
       "id                 False\n",
       "Season             False\n",
       "city                True\n",
       "date               False\n",
       "team1              False\n",
       "team2              False\n",
       "toss_winner        False\n",
       "toss_decision      False\n",
       "result             False\n",
       "dl_applied         False\n",
       "winner              True\n",
       "win_by_runs        False\n",
       "win_by_wickets     False\n",
       "player_of_match     True\n",
       "venue              False\n",
       "umpire1             True\n",
       "umpire2             True\n",
       "umpire3             True\n",
       "dtype: bool"
      ]
     },
     "execution_count": 5,
     "metadata": {},
     "output_type": "execute_result"
    }
   ],
   "source": [
    "#Data cleaning\n",
    "deliveries=deliveries.replace('Rising Pune Supergiants','Rising Pune Supergiant')\n",
    "matches=matches.replace('Rising Pune Supergiants','Rising Pune Supergiant')\n",
    "\n",
    "deliveries=deliveries.replace('Deccan Chargers','Sunrisers Hyderabad')\n",
    "matches=matches.replace('Deccan Chargers','Sunrisers Hyderabad')\n",
    "\n",
    "deliveries=deliveries.replace('Delhi Daredevils','Delhi Capitals')\n",
    "matches=matches.replace('Delhi Daredevils','Delhi Capitals')\n",
    "\n",
    "deliveries.isna().any()\n",
    "matches.isna().any()"
   ]
  },
  {
   "cell_type": "code",
   "execution_count": 6,
   "metadata": {},
   "outputs": [
    {
     "name": "stdout",
     "output_type": "stream",
     "text": [
      "<class 'pandas.core.frame.DataFrame'>\n",
      "RangeIndex: 756 entries, 0 to 755\n",
      "Data columns (total 18 columns):\n",
      " #   Column           Non-Null Count  Dtype \n",
      "---  ------           --------------  ----- \n",
      " 0   id               756 non-null    int64 \n",
      " 1   Season           756 non-null    int64 \n",
      " 2   city             749 non-null    object\n",
      " 3   date             756 non-null    object\n",
      " 4   team1            756 non-null    object\n",
      " 5   team2            756 non-null    object\n",
      " 6   toss_winner      756 non-null    object\n",
      " 7   toss_decision    756 non-null    object\n",
      " 8   result           756 non-null    object\n",
      " 9   dl_applied       756 non-null    int64 \n",
      " 10  winner           752 non-null    object\n",
      " 11  win_by_runs      756 non-null    int64 \n",
      " 12  win_by_wickets   756 non-null    int64 \n",
      " 13  player_of_match  752 non-null    object\n",
      " 14  venue            756 non-null    object\n",
      " 15  umpire1          754 non-null    object\n",
      " 16  umpire2          754 non-null    object\n",
      " 17  umpire3          119 non-null    object\n",
      "dtypes: int64(5), object(13)\n",
      "memory usage: 106.4+ KB\n"
     ]
    }
   ],
   "source": [
    "#filling empty cells\n",
    "matches.info()\n",
    "matches.loc[matches[\"city\"].isna(),\"city\"]=\"Dubai\"\n",
    "matches.loc[matches[\"winner\"].isna(),\"winner\"]=\"DRAW\"\n",
    "matches.loc[matches[\"player_of_match\"].isna(),\"player_of_match\"]=\"No player_of_match\""
   ]
  },
  {
   "cell_type": "markdown",
   "metadata": {},
   "source": [
    "# AVERAGE RUNS PER MATCH (Player-wise)"
   ]
  },
  {
   "cell_type": "code",
   "execution_count": 7,
   "metadata": {},
   "outputs": [
    {
     "data": {
      "text/html": [
       "<div>\n",
       "<style scoped>\n",
       "    .dataframe tbody tr th:only-of-type {\n",
       "        vertical-align: middle;\n",
       "    }\n",
       "\n",
       "    .dataframe tbody tr th {\n",
       "        vertical-align: top;\n",
       "    }\n",
       "\n",
       "    .dataframe thead th {\n",
       "        text-align: right;\n",
       "    }\n",
       "</style>\n",
       "<table border=\"1\" class=\"dataframe\">\n",
       "  <thead>\n",
       "    <tr style=\"text-align: right;\">\n",
       "      <th></th>\n",
       "      <th>batsman</th>\n",
       "      <th>Average runs</th>\n",
       "    </tr>\n",
       "  </thead>\n",
       "  <tbody>\n",
       "    <tr>\n",
       "      <th>0</th>\n",
       "      <td>J Bairstow</td>\n",
       "      <td>48.700000</td>\n",
       "    </tr>\n",
       "    <tr>\n",
       "      <th>1</th>\n",
       "      <td>DA Warner</td>\n",
       "      <td>39.484127</td>\n",
       "    </tr>\n",
       "    <tr>\n",
       "      <th>2</th>\n",
       "      <td>CH Gayle</td>\n",
       "      <td>39.298387</td>\n",
       "    </tr>\n",
       "    <tr>\n",
       "      <th>3</th>\n",
       "      <td>LMP Simmons</td>\n",
       "      <td>38.862069</td>\n",
       "    </tr>\n",
       "    <tr>\n",
       "      <th>4</th>\n",
       "      <td>SE Marsh</td>\n",
       "      <td>37.855072</td>\n",
       "    </tr>\n",
       "    <tr>\n",
       "      <th>5</th>\n",
       "      <td>ML Hayden</td>\n",
       "      <td>37.656250</td>\n",
       "    </tr>\n",
       "    <tr>\n",
       "      <th>6</th>\n",
       "      <td>HM Amla</td>\n",
       "      <td>37.500000</td>\n",
       "    </tr>\n",
       "    <tr>\n",
       "      <th>7</th>\n",
       "      <td>KL Rahul</td>\n",
       "      <td>35.982759</td>\n",
       "    </tr>\n",
       "    <tr>\n",
       "      <th>8</th>\n",
       "      <td>R Parag</td>\n",
       "      <td>35.600000</td>\n",
       "    </tr>\n",
       "    <tr>\n",
       "      <th>9</th>\n",
       "      <td>MEK Hussey</td>\n",
       "      <td>35.586207</td>\n",
       "    </tr>\n",
       "    <tr>\n",
       "      <th>10</th>\n",
       "      <td>MN van Wyk</td>\n",
       "      <td>35.000000</td>\n",
       "    </tr>\n",
       "    <tr>\n",
       "      <th>11</th>\n",
       "      <td>RR Pant</td>\n",
       "      <td>34.351852</td>\n",
       "    </tr>\n",
       "    <tr>\n",
       "      <th>12</th>\n",
       "      <td>JC Buttler</td>\n",
       "      <td>33.355556</td>\n",
       "    </tr>\n",
       "    <tr>\n",
       "      <th>13</th>\n",
       "      <td>V Kohli</td>\n",
       "      <td>33.230769</td>\n",
       "    </tr>\n",
       "    <tr>\n",
       "      <th>14</th>\n",
       "      <td>CA Lynn</td>\n",
       "      <td>33.219512</td>\n",
       "    </tr>\n",
       "    <tr>\n",
       "      <th>15</th>\n",
       "      <td>KS Williamson</td>\n",
       "      <td>33.219512</td>\n",
       "    </tr>\n",
       "    <tr>\n",
       "      <th>16</th>\n",
       "      <td>SR Tendulkar</td>\n",
       "      <td>32.525641</td>\n",
       "    </tr>\n",
       "    <tr>\n",
       "      <th>17</th>\n",
       "      <td>AB de Villiers</td>\n",
       "      <td>32.274648</td>\n",
       "    </tr>\n",
       "    <tr>\n",
       "      <th>18</th>\n",
       "      <td>Q de Kock</td>\n",
       "      <td>31.180000</td>\n",
       "    </tr>\n",
       "    <tr>\n",
       "      <th>19</th>\n",
       "      <td>E Lewis</td>\n",
       "      <td>31.125000</td>\n",
       "    </tr>\n",
       "  </tbody>\n",
       "</table>\n",
       "</div>"
      ],
      "text/plain": [
       "           batsman  Average runs\n",
       "0       J Bairstow     48.700000\n",
       "1        DA Warner     39.484127\n",
       "2         CH Gayle     39.298387\n",
       "3      LMP Simmons     38.862069\n",
       "4         SE Marsh     37.855072\n",
       "5        ML Hayden     37.656250\n",
       "6          HM Amla     37.500000\n",
       "7         KL Rahul     35.982759\n",
       "8          R Parag     35.600000\n",
       "9       MEK Hussey     35.586207\n",
       "10      MN van Wyk     35.000000\n",
       "11         RR Pant     34.351852\n",
       "12      JC Buttler     33.355556\n",
       "13         V Kohli     33.230769\n",
       "14         CA Lynn     33.219512\n",
       "15   KS Williamson     33.219512\n",
       "16    SR Tendulkar     32.525641\n",
       "17  AB de Villiers     32.274648\n",
       "18       Q de Kock     31.180000\n",
       "19         E Lewis     31.125000"
      ]
     },
     "execution_count": 7,
     "metadata": {},
     "output_type": "execute_result"
    }
   ],
   "source": [
    "#player-wise total runs\n",
    "p_total=deliveries.groupby('batsman')['total_runs'].sum()\n",
    "#player-wise total matches\n",
    "p_matches=deliveries.groupby('batsman')['match_id'].nunique()\n",
    "#player-wise average runs per match\n",
    "p_avrg=p_total/p_matches\n",
    "ply_average=p_avrg.sort_values(axis=0, ascending=False, kind='quicksort')\n",
    "p_avrg=ply_average.head(20).to_frame()\n",
    "p_avrg.columns=['Average runs']\n",
    "p_avrg.reset_index()"
   ]
  },
  {
   "cell_type": "code",
   "execution_count": 8,
   "metadata": {},
   "outputs": [
    {
     "data": {
      "text/plain": [
       "batsman\n",
       "B Stanlake    2\n",
       "Name: total_runs, dtype: int64"
      ]
     },
     "execution_count": 8,
     "metadata": {},
     "output_type": "execute_result"
    }
   ],
   "source": [
    "stanlake=deliveries[deliveries['batsman'] =='B Stanlake'].groupby('batsman')['total_runs'].count()\n",
    "stanlake"
   ]
  },
  {
   "cell_type": "markdown",
   "metadata": {},
   "source": [
    "# AVERAGE RUNS PER MATCH (Team-wise)"
   ]
  },
  {
   "cell_type": "code",
   "execution_count": 9,
   "metadata": {},
   "outputs": [
    {
     "data": {
      "text/plain": [
       "batting_team\n",
       "Chennai Super Kings            161.085366\n",
       "Delhi Capitals                 152.644068\n",
       "Gujarat Lions                  162.066667\n",
       "Kings XI Punjab                158.482955\n",
       "Kochi Tuskers Kerala           135.785714\n",
       "Kolkata Knight Riders          154.039326\n",
       "Mumbai Indians                 159.406417\n",
       "Pune Warriors                  138.217391\n",
       "Rajasthan Royals               152.591837\n",
       "Rising Pune Supergiant         151.100000\n",
       "Royal Challengers Bangalore    156.255556\n",
       "Sunrisers Hyderabad            155.857923\n",
       "dtype: float64"
      ]
     },
     "execution_count": 9,
     "metadata": {},
     "output_type": "execute_result"
    }
   ],
   "source": [
    "#team-wise total runs\n",
    "t_runs=deliveries.groupby('batting_team')['total_runs'].sum()\n",
    "#team-wise total matches\n",
    "t_matches=matches.groupby('team1')['team1'].count()+matches.groupby('team2')['team2'].count()\n",
    "\n",
    "#team-wise average runs per match\n",
    "t_mean=t_runs/t_matches\n",
    "\n",
    "t_mean"
   ]
  },
  {
   "cell_type": "code",
   "execution_count": 10,
   "metadata": {},
   "outputs": [
    {
     "data": {
      "text/plain": [
       "batting_team\n",
       "Chennai Super Kings            161.085366\n",
       "Delhi Capitals                 152.644068\n",
       "Gujarat Lions                  162.066667\n",
       "Kings XI Punjab                158.482955\n",
       "Kochi Tuskers Kerala           135.785714\n",
       "Kolkata Knight Riders          154.039326\n",
       "Mumbai Indians                 159.406417\n",
       "Pune Warriors                  138.217391\n",
       "Rajasthan Royals               152.591837\n",
       "Rising Pune Supergiant         151.100000\n",
       "Royal Challengers Bangalore    156.255556\n",
       "Sunrisers Hyderabad            155.857923\n",
       "dtype: float64"
      ]
     },
     "execution_count": 10,
     "metadata": {},
     "output_type": "execute_result"
    }
   ],
   "source": [
    "#team-wise total runs\n",
    "t_runs=deliveries.groupby('batting_team')['total_runs'].sum()\n",
    "#team-wise total matches\n",
    "t_matches=matches.groupby('team1')['team1'].count()+matches.groupby('team2')['team2'].count()\n",
    "\n",
    "#team-wise average runs per match\n",
    "t_mean=t_runs/t_matches\n",
    "\n",
    "t_mean"
   ]
  },
  {
   "cell_type": "markdown",
   "metadata": {},
   "source": [
    "# AVERAGE RUNS PER OVER (Player-wise)"
   ]
  },
  {
   "cell_type": "code",
   "execution_count": 11,
   "metadata": {},
   "outputs": [
    {
     "data": {
      "text/plain": [
       "batsman\n",
       "B Stanlake         15.000000\n",
       "S Sharma           15.000000\n",
       "Umar Gul           13.894737\n",
       "KMDN Kulasekara    12.000000\n",
       "RS Sodhi           12.000000\n",
       "ER Dwivedi         11.600000\n",
       "AD Russell         11.409714\n",
       "Shahid Afridi      10.695652\n",
       "SP Narine          10.677755\n",
       "M Ali              10.655738\n",
       "K Gowtham          10.604651\n",
       "I Malhotra         10.500000\n",
       "LJ Wright          10.476190\n",
       "KK Cooper          10.457143\n",
       "BCJ Cutting        10.397260\n",
       "S Curran           10.363636\n",
       "Rashid Khan        10.298507\n",
       "SN Thakur          10.285714\n",
       "H Brar             10.285714\n",
       "CR Brathwaite      10.250000\n",
       "Kamran Akmal       10.153846\n",
       "N Pooran           10.145455\n",
       "RR Pant            10.081522\n",
       "VRV Singh          10.000000\n",
       "Shivam Sharma      10.000000\n",
       "J Bairstow          9.972696\n",
       "S Rutherford        9.927273\n",
       "GJ Maxwell          9.878049\n",
       "BJ Haddin           9.818182\n",
       "DL Chahar           9.782609\n",
       "HH Pandya           9.782609\n",
       "KJ Abbott           9.750000\n",
       "AUK Pathan          9.692308\n",
       "CH Morris           9.557522\n",
       "LPC Silva           9.555556\n",
       "V Sehwag            9.541735\n",
       "Mohammad Nabi       9.536842\n",
       "JC Buttler          9.440252\n",
       "CH Gayle            9.338231\n",
       "HV Patel            9.243243\n",
       "Name: total_runs, dtype: float64"
      ]
     },
     "execution_count": 11,
     "metadata": {},
     "output_type": "execute_result"
    }
   ],
   "source": [
    "#player-wise total runs\n",
    "p_total=deliveries.groupby('batsman')['total_runs'].sum()\n",
    "#player-wise total overs\n",
    "p_overs=deliveries.groupby('batsman')['total_runs'].count()/6\n",
    "#player-wise average runs per over\n",
    "p_average=p_total/p_overs\n",
    "p_average.sort_values(axis=0, ascending=False, kind='quicksort').head(40)"
   ]
  },
  {
   "cell_type": "markdown",
   "metadata": {},
   "source": [
    "# STANDARD DEVIATION (for runs scored by teams in each match)"
   ]
  },
  {
   "cell_type": "code",
   "execution_count": 12,
   "metadata": {},
   "outputs": [
    {
     "data": {
      "text/html": [
       "<div>\n",
       "<style scoped>\n",
       "    .dataframe tbody tr th:only-of-type {\n",
       "        vertical-align: middle;\n",
       "    }\n",
       "\n",
       "    .dataframe tbody tr th {\n",
       "        vertical-align: top;\n",
       "    }\n",
       "\n",
       "    .dataframe thead th {\n",
       "        text-align: right;\n",
       "    }\n",
       "</style>\n",
       "<table border=\"1\" class=\"dataframe\">\n",
       "  <thead>\n",
       "    <tr style=\"text-align: right;\">\n",
       "      <th></th>\n",
       "      <th>total_runs</th>\n",
       "    </tr>\n",
       "    <tr>\n",
       "      <th>batting_team</th>\n",
       "      <th></th>\n",
       "    </tr>\n",
       "  </thead>\n",
       "  <tbody>\n",
       "    <tr>\n",
       "      <th>Chennai Super Kings</th>\n",
       "      <td>30.855571</td>\n",
       "    </tr>\n",
       "    <tr>\n",
       "      <th>Delhi Capitals</th>\n",
       "      <td>33.098903</td>\n",
       "    </tr>\n",
       "    <tr>\n",
       "      <th>Gujarat Lions</th>\n",
       "      <td>24.819255</td>\n",
       "    </tr>\n",
       "    <tr>\n",
       "      <th>Kings XI Punjab</th>\n",
       "      <td>32.398761</td>\n",
       "    </tr>\n",
       "    <tr>\n",
       "      <th>Kochi Tuskers Kerala</th>\n",
       "      <td>30.038894</td>\n",
       "    </tr>\n",
       "    <tr>\n",
       "      <th>Kolkata Knight Riders</th>\n",
       "      <td>32.953548</td>\n",
       "    </tr>\n",
       "    <tr>\n",
       "      <th>Mumbai Indians</th>\n",
       "      <td>29.893459</td>\n",
       "    </tr>\n",
       "    <tr>\n",
       "      <th>Pune Warriors</th>\n",
       "      <td>25.318536</td>\n",
       "    </tr>\n",
       "    <tr>\n",
       "      <th>Rajasthan Royals</th>\n",
       "      <td>32.172355</td>\n",
       "    </tr>\n",
       "    <tr>\n",
       "      <th>Rising Pune Supergiant</th>\n",
       "      <td>31.702660</td>\n",
       "    </tr>\n",
       "    <tr>\n",
       "      <th>Royal Challengers Bangalore</th>\n",
       "      <td>37.088016</td>\n",
       "    </tr>\n",
       "    <tr>\n",
       "      <th>Sunrisers Hyderabad</th>\n",
       "      <td>28.387072</td>\n",
       "    </tr>\n",
       "  </tbody>\n",
       "</table>\n",
       "</div>"
      ],
      "text/plain": [
       "                             total_runs\n",
       "batting_team                           \n",
       "Chennai Super Kings           30.855571\n",
       "Delhi Capitals                33.098903\n",
       "Gujarat Lions                 24.819255\n",
       "Kings XI Punjab               32.398761\n",
       "Kochi Tuskers Kerala          30.038894\n",
       "Kolkata Knight Riders         32.953548\n",
       "Mumbai Indians                29.893459\n",
       "Pune Warriors                 25.318536\n",
       "Rajasthan Royals              32.172355\n",
       "Rising Pune Supergiant        31.702660\n",
       "Royal Challengers Bangalore   37.088016\n",
       "Sunrisers Hyderabad           28.387072"
      ]
     },
     "execution_count": 12,
     "metadata": {},
     "output_type": "execute_result"
    }
   ],
   "source": [
    "#total runs scored by every team in each match from 2008-2020\n",
    "each_match=deliveries.groupby(['match_id', 'batting_team'])[['total_runs']].sum()\n",
    "\n",
    "#standard deviation for runs scored by teams in each match\n",
    "deviation=each_match.groupby(['batting_team'])[['total_runs']].std()\n",
    "deviation"
   ]
  },
  {
   "cell_type": "markdown",
   "metadata": {},
   "source": [
    "# TOP 3 BATSMEN"
   ]
  },
  {
   "cell_type": "code",
   "execution_count": 13,
   "metadata": {},
   "outputs": [
    {
     "data": {
      "text/plain": [
       "batsman\n",
       "SK Raina     5651\n",
       "V Kohli      5616\n",
       "RG Sharma    5057\n",
       "Name: total_runs, dtype: int64"
      ]
     },
     "execution_count": 13,
     "metadata": {},
     "output_type": "execute_result"
    }
   ],
   "source": [
    "#top 3 batsman based on total runs scored by batsMEN\n",
    "p_total=deliveries.groupby('batsman')['total_runs'].sum()\n",
    "p_total[np.argsort(p_total)[::-1]].head(3)"
   ]
  },
  {
   "cell_type": "markdown",
   "metadata": {},
   "source": [
    "# CORRELATION (between age and runs of batsman)"
   ]
  },
  {
   "cell_type": "markdown",
   "metadata": {},
   "source": [
    "# Suresh Raina"
   ]
  },
  {
   "cell_type": "code",
   "execution_count": 14,
   "metadata": {},
   "outputs": [
    {
     "data": {
      "text/html": [
       "<div>\n",
       "<style scoped>\n",
       "    .dataframe tbody tr th:only-of-type {\n",
       "        vertical-align: middle;\n",
       "    }\n",
       "\n",
       "    .dataframe tbody tr th {\n",
       "        vertical-align: top;\n",
       "    }\n",
       "\n",
       "    .dataframe thead th {\n",
       "        text-align: right;\n",
       "    }\n",
       "</style>\n",
       "<table border=\"1\" class=\"dataframe\">\n",
       "  <thead>\n",
       "    <tr style=\"text-align: right;\">\n",
       "      <th></th>\n",
       "      <th>age</th>\n",
       "      <th>runs</th>\n",
       "    </tr>\n",
       "  </thead>\n",
       "  <tbody>\n",
       "    <tr>\n",
       "      <th>age</th>\n",
       "      <td>1.000000</td>\n",
       "      <td>-0.239081</td>\n",
       "    </tr>\n",
       "    <tr>\n",
       "      <th>runs</th>\n",
       "      <td>-0.239081</td>\n",
       "      <td>1.000000</td>\n",
       "    </tr>\n",
       "  </tbody>\n",
       "</table>\n",
       "</div>"
      ],
      "text/plain": [
       "           age      runs\n",
       "age   1.000000 -0.239081\n",
       "runs -0.239081  1.000000"
      ]
     },
     "execution_count": 14,
     "metadata": {},
     "output_type": "execute_result"
    }
   ],
   "source": [
    "#correlation for Raina\n",
    "data1=[(22,440),(23,451),(24,570),(25,451),(26,460),(27,562),(28,542),(29,397),(30,418),(31,454),(32,487),(33,419)]\n",
    "data_1=pd.DataFrame(data1,columns=[\"age\",\"runs\"])\n",
    "data_1.corr()"
   ]
  },
  {
   "cell_type": "code",
   "execution_count": 15,
   "metadata": {},
   "outputs": [
    {
     "data": {
      "image/png": "[encoded data removed]",
      "text/plain": [
       "<Figure size 432x288 with 1 Axes>"
      ]
     },
     "metadata": {
      "needs_background": "light"
     },
     "output_type": "display_data"
    }
   ],
   "source": [
    "#scatter plot for Raina\n",
    "data_1.plot(kind='scatter',x='age',y='runs')\n",
    "plt.show()"
   ]
  },
  {
   "cell_type": "markdown",
   "metadata": {},
   "source": [
    "# Virat Kohli"
   ]
  },
  {
   "cell_type": "code",
   "execution_count": 16,
   "metadata": {},
   "outputs": [
    {
     "data": {
      "text/html": [
       "<div>\n",
       "<style scoped>\n",
       "    .dataframe tbody tr th:only-of-type {\n",
       "        vertical-align: middle;\n",
       "    }\n",
       "\n",
       "    .dataframe tbody tr th {\n",
       "        vertical-align: top;\n",
       "    }\n",
       "\n",
       "    .dataframe thead th {\n",
       "        text-align: right;\n",
       "    }\n",
       "</style>\n",
       "<table border=\"1\" class=\"dataframe\">\n",
       "  <thead>\n",
       "    <tr style=\"text-align: right;\">\n",
       "      <th></th>\n",
       "      <th>age</th>\n",
       "      <th>runs</th>\n",
       "    </tr>\n",
       "  </thead>\n",
       "  <tbody>\n",
       "    <tr>\n",
       "      <th>age</th>\n",
       "      <td>1.000000</td>\n",
       "      <td>0.461241</td>\n",
       "    </tr>\n",
       "    <tr>\n",
       "      <th>runs</th>\n",
       "      <td>0.461241</td>\n",
       "      <td>1.000000</td>\n",
       "    </tr>\n",
       "  </tbody>\n",
       "</table>\n",
       "</div>"
      ],
      "text/plain": [
       "           age      runs\n",
       "age   1.000000  0.461241\n",
       "runs  0.461241  1.000000"
      ]
     },
     "execution_count": 16,
     "metadata": {},
     "output_type": "execute_result"
    }
   ],
   "source": [
    "#correlation for Virat Kohli\n",
    "data2=[(20,187),(21,258),(22,320),(23,584),(24,375),(25,660),(26,373),(27,519),(28,998),(29,314),(30,548),(31,480)]\n",
    "data_2=pd.DataFrame(data2,columns=[\"age\",\"runs\"])\n",
    "data_2.corr()"
   ]
  },
  {
   "cell_type": "code",
   "execution_count": 17,
   "metadata": {},
   "outputs": [
    {
     "data": {
      "image/png": "[encoded data removed]",
      "text/plain": [
       "<Figure size 432x288 with 1 Axes>"
      ]
     },
     "metadata": {
      "needs_background": "light"
     },
     "output_type": "display_data"
    }
   ],
   "source": [
    "#scatter plot for Virat Kohli\n",
    "data_2.plot(kind='scatter',x='age',y='runs')\n",
    "plt.show()"
   ]
  },
  {
   "cell_type": "markdown",
   "metadata": {},
   "source": [
    "# Rohit Sharma"
   ]
  },
  {
   "cell_type": "code",
   "execution_count": 18,
   "metadata": {},
   "outputs": [
    {
     "data": {
      "text/html": [
       "<div>\n",
       "<style scoped>\n",
       "    .dataframe tbody tr th:only-of-type {\n",
       "        vertical-align: middle;\n",
       "    }\n",
       "\n",
       "    .dataframe tbody tr th {\n",
       "        vertical-align: top;\n",
       "    }\n",
       "\n",
       "    .dataframe thead th {\n",
       "        text-align: right;\n",
       "    }\n",
       "</style>\n",
       "<table border=\"1\" class=\"dataframe\">\n",
       "  <thead>\n",
       "    <tr style=\"text-align: right;\">\n",
       "      <th></th>\n",
       "      <th>age</th>\n",
       "      <th>runs</th>\n",
       "    </tr>\n",
       "  </thead>\n",
       "  <tbody>\n",
       "    <tr>\n",
       "      <th>age</th>\n",
       "      <td>1.000000</td>\n",
       "      <td>-0.118744</td>\n",
       "    </tr>\n",
       "    <tr>\n",
       "      <th>runs</th>\n",
       "      <td>-0.118744</td>\n",
       "      <td>1.000000</td>\n",
       "    </tr>\n",
       "  </tbody>\n",
       "</table>\n",
       "</div>"
      ],
      "text/plain": [
       "           age      runs\n",
       "age   1.000000 -0.118744\n",
       "runs -0.118744  1.000000"
      ]
     },
     "execution_count": 18,
     "metadata": {},
     "output_type": "execute_result"
    }
   ],
   "source": [
    "#correlation for Rohit Sharma\n",
    "data3=[(21,419),(22,379),(23,422),(24,382),(25,448),(26,548),(27,397),(28,492),(29,498),(30,349),(31,308),(32,415)]\n",
    "data_3=pd.DataFrame(data3,columns=[\"age\",\"runs\"])\n",
    "data_3.corr()"
   ]
  },
  {
   "cell_type": "code",
   "execution_count": 19,
   "metadata": {},
   "outputs": [
    {
     "data": {
      "image/png": "[encoded data removed]",
      "text/plain": [
       "<Figure size 432x288 with 1 Axes>"
      ]
     },
     "metadata": {
      "needs_background": "light"
     },
     "output_type": "display_data"
    }
   ],
   "source": [
    "#scatter plot for Rohit Sharma\n",
    "data_3.plot(kind='scatter',x='age',y='runs')\n",
    "plt.show()"
   ]
  },
  {
   "cell_type": "markdown",
   "metadata": {},
   "source": [
    "# REGRESSION (age and runs of batsman)"
   ]
  },
  {
   "cell_type": "markdown",
   "metadata": {},
   "source": [
    "# Suresh Raina"
   ]
  },
  {
   "cell_type": "code",
   "execution_count": 20,
   "metadata": {},
   "outputs": [
    {
     "name": "stdout",
     "output_type": "stream",
     "text": [
      "[570.98717949]\n"
     ]
    }
   ],
   "source": [
    "#Suresh Raina\n",
    "raina_age=[22,23,24,25,26,27,28,29,30,31,32,33]\n",
    "raina_runs=[421,434,520,438,441,548,523,374,399,442,445,383]\n",
    "raina1= pd.DataFrame(raina_age, index =[1,2,3,4,5,6,7,8,9,10,11,12],columns =['raina_age'])\n",
    "raina2=pd.DataFrame(raina_runs, index =[1,2,3,4,5,6,7,8,9,10,11,12],columns =['raina_runs'])\n",
    "regressor = LinearRegression()\n",
    "regressor.fit(raina1,raina2)\n",
    "\n",
    "#regression intercept\n",
    "print(regressor.intercept_)"
   ]
  },
  {
   "cell_type": "code",
   "execution_count": 21,
   "metadata": {},
   "outputs": [
    {
     "name": "stdout",
     "output_type": "stream",
     "text": [
      "[[-4.4965035]]\n"
     ]
    }
   ],
   "source": [
    "#regression coefficient\n",
    "print(regressor.coef_)"
   ]
  },
  {
   "cell_type": "code",
   "execution_count": 22,
   "metadata": {},
   "outputs": [
    {
     "data": {
      "text/plain": [
       "array([[418.10606061]])"
      ]
     },
     "execution_count": 22,
     "metadata": {},
     "output_type": "execute_result"
    }
   ],
   "source": [
    "#predicted value\n",
    "y=regressor.intercept_+(regressor.coef_*34)\n",
    "y"
   ]
  },
  {
   "cell_type": "markdown",
   "metadata": {},
   "source": [
    "# Virat Kohli"
   ]
  },
  {
   "cell_type": "code",
   "execution_count": 23,
   "metadata": {},
   "outputs": [
    {
     "name": "stdout",
     "output_type": "stream",
     "text": [
      "[-269.41958042]\n"
     ]
    }
   ],
   "source": [
    "virat_age=[20,21,22,23,24,25,26,27,28,29,30,31]\n",
    "virat_runs=[165,246,307,557,364,634,359,505,973,308,530,464]\n",
    "virat1= pd.DataFrame(virat_age, index =[1,2,3,4,5,6,7,8,9,10,11,12],columns =['virat_age'])\n",
    "virat2=pd.DataFrame(virat_runs, index =[1,2,3,4,5,6,7,8,9,10,11,12],columns =['virat_runs'])\n",
    "regressor = LinearRegression()\n",
    "regressor.fit(virat1,virat2)\n",
    "\n",
    "#regression intercept\n",
    "print(regressor.intercept_)"
   ]
  },
  {
   "cell_type": "code",
   "execution_count": 24,
   "metadata": {},
   "outputs": [
    {
     "name": "stdout",
     "output_type": "stream",
     "text": [
      "[[28.25174825]]\n"
     ]
    }
   ],
   "source": [
    "#regression coefficient\n",
    "print(regressor.coef_)"
   ]
  },
  {
   "cell_type": "code",
   "execution_count": 25,
   "metadata": {},
   "outputs": [
    {
     "data": {
      "text/plain": [
       "array([[606.38461538]])"
      ]
     },
     "execution_count": 25,
     "metadata": {},
     "output_type": "execute_result"
    }
   ],
   "source": [
    "#predicted value\n",
    "y=(regressor.coef_*31)+regressor.intercept_\n",
    "y"
   ]
  },
  {
   "cell_type": "markdown",
   "metadata": {},
   "source": [
    "# Rohit Sharma"
   ]
  },
  {
   "cell_type": "code",
   "execution_count": 26,
   "metadata": {},
   "outputs": [
    {
     "name": "stdout",
     "output_type": "stream",
     "text": [
      "[462.46386946]\n"
     ]
    }
   ],
   "source": [
    "#Rohit Sharma\n",
    "rohit_age=[21,22,23,24,25,26,27,28,29,30,31,32]\n",
    "rohit_runs=[404,362,404,372,433,538,390,482,489,333,286,405]\n",
    "rohit1= pd.DataFrame(rohit_age, index =[1,2,3,4,5,6,7,8,9,10,11,12],columns =['rohit_age'])\n",
    "rohit2=pd.DataFrame(rohit_runs, index =[1,2,3,4,5,6,7,8,9,10,11,12],columns =['rohit_runs'])\n",
    "regressor = LinearRegression()\n",
    "regressor.fit(rohit1,rohit2)\n",
    "\n",
    "#regression intercept\n",
    "print(regressor.intercept_)"
   ]
  },
  {
   "cell_type": "code",
   "execution_count": 27,
   "metadata": {},
   "outputs": [
    {
     "name": "stdout",
     "output_type": "stream",
     "text": [
      "[[-2.04895105]]\n"
     ]
    }
   ],
   "source": [
    "#regression coefficient\n",
    "print(regressor.coef_)"
   ]
  },
  {
   "cell_type": "code",
   "execution_count": 28,
   "metadata": {},
   "outputs": [
    {
     "data": {
      "text/plain": [
       "array([[394.84848485]])"
      ]
     },
     "execution_count": 28,
     "metadata": {},
     "output_type": "execute_result"
    }
   ],
   "source": [
    "#predicted value\n",
    "y=(regressor.coef_*33)+regressor.intercept_\n",
    "y"
   ]
  },
  {
   "cell_type": "markdown",
   "metadata": {},
   "source": [
    "# GRAPHICAL REPRESENTATION:"
   ]
  },
  {
   "cell_type": "markdown",
   "metadata": {},
   "source": [
    "# TOP 10 PLAYERS OF MATCHES"
   ]
  },
  {
   "cell_type": "code",
   "execution_count": 29,
   "metadata": {},
   "outputs": [
    {
     "data": {
      "text/plain": [
       "CH Gayle          21\n",
       "AB de Villiers    20\n",
       "MS Dhoni          17\n",
       "DA Warner         17\n",
       "RG Sharma         17\n",
       "YK Pathan         16\n",
       "SR Watson         15\n",
       "SK Raina          14\n",
       "G Gambhir         13\n",
       "AM Rahane         12\n",
       "Name: player_of_match, dtype: int64"
      ]
     },
     "execution_count": 29,
     "metadata": {},
     "output_type": "execute_result"
    }
   ],
   "source": [
    "#top 10 most-players of matches\n",
    "pofmatch=matches['player_of_match'].value_counts()\n",
    "pofmatch.head(10)"
   ]
  },
  {
   "cell_type": "code",
   "execution_count": 30,
   "metadata": {},
   "outputs": [
    {
     "data": {
      "image/png": "[encoded data removed]",
      "text/plain": [
       "<Figure size 432x288 with 1 Axes>"
      ]
     },
     "metadata": {
      "needs_background": "light"
     },
     "output_type": "display_data"
    }
   ],
   "source": [
    "#Plotting top 10 players of matches in bar graph\n",
    "plofmatch = {'player_name': ['CH Gayle','AB de Villiers','RG Sharma','DA Warner','MS Dhoni','YK Pathan','SR Watson','SK Raina'\n",
    "                            ,'G Gambhir','AM Rahane'],\n",
    "        'no_of_times': [21,20,17,17,17,16,15,14,13,12]}\n",
    "  \n",
    "pl_of_match= pd.DataFrame(plofmatch,columns=['player_name','no_of_times'])\n",
    "pl_of_match.plot(x ='player_name', y='no_of_times', kind = 'bar')\n",
    "plt.title(\"TOP 10 PLAYERS OF MATCHES\")\n",
    "plt.show()"
   ]
  },
  {
   "cell_type": "markdown",
   "metadata": {},
   "source": [
    "# WINNING PERCENTAGE OF CSK(2008-19)"
   ]
  },
  {
   "cell_type": "code",
   "execution_count": 31,
   "metadata": {},
   "outputs": [
    {
     "data": {
      "text/plain": [
       "Season\n",
       "2008    56.250000\n",
       "2009    57.142857\n",
       "2010    56.250000\n",
       "2011    68.750000\n",
       "2012    55.555556\n",
       "2013    66.666667\n",
       "2014    62.500000\n",
       "2015    58.823529\n",
       "2018    68.750000\n",
       "2019    58.823529\n",
       "dtype: float64"
      ]
     },
     "execution_count": 31,
     "metadata": {},
     "output_type": "execute_result"
    }
   ],
   "source": [
    "#win percentage of csk from 2008-2019\n",
    "csk=matches[matches['winner'] == 'Chennai Super Kings'].groupby('Season')['winner'].count()/(matches[matches['team1'] == 'Chennai Super Kings'].groupby('Season')['team1'].count()+matches[matches['team2'] == 'Chennai Super Kings'].groupby('Season')['team2'].count())\n",
    "csk*100"
   ]
  },
  {
   "cell_type": "code",
   "execution_count": 32,
   "metadata": {},
   "outputs": [
    {
     "data": {
      "image/png": "[encoded data removed]",
      "text/plain": [
       "<Figure size 432x288 with 1 Axes>"
      ]
     },
     "metadata": {
      "needs_background": "light"
     },
     "output_type": "display_data"
    }
   ],
   "source": [
    "#plotting win percentage of csk from 2008-2019\n",
    "plt.plot(csk)\n",
    "plt.xlabel(\"Season\")\n",
    "plt.ylabel(\"Winning percentage\")\n",
    "plt.title(\"Winning percentage of CSK from 2008-19\")\n",
    "plt.show()"
   ]
  },
  {
   "cell_type": "markdown",
   "metadata": {},
   "source": [
    "# AVERAGE RUNS IN EACH OVER(1-20)"
   ]
  },
  {
   "cell_type": "code",
   "execution_count": 33,
   "metadata": {},
   "outputs": [
    {
     "data": {
      "text/plain": [
       "over\n",
       "1      5.876913\n",
       "2      6.924826\n",
       "3      7.722570\n",
       "4      7.937094\n",
       "5      7.978170\n",
       "6      8.049753\n",
       "7      6.517074\n",
       "8      6.962283\n",
       "9      7.232369\n",
       "10     7.177918\n",
       "11     7.491447\n",
       "12     7.692409\n",
       "13     7.740549\n",
       "14     8.008242\n",
       "15     8.304270\n",
       "16     8.587376\n",
       "17     8.975023\n",
       "18     9.488256\n",
       "19     9.790236\n",
       "20    10.601069\n",
       "dtype: float64"
      ]
     },
     "execution_count": 33,
     "metadata": {},
     "output_type": "execute_result"
    }
   ],
   "source": [
    "#average runs scored in each over 1-20\n",
    "runsperover=deliveries.groupby('over')['total_runs'].sum()/(deliveries.groupby('over')['over'].count()/6)\n",
    "runsperover"
   ]
  },
  {
   "cell_type": "code",
   "execution_count": 34,
   "metadata": {},
   "outputs": [
    {
     "data": {
      "image/png": "[encoded data removed]",
      "text/plain": [
       "<Figure size 720x360 with 1 Axes>"
      ]
     },
     "metadata": {
      "needs_background": "light"
     },
     "output_type": "display_data"
    }
   ],
   "source": [
    "#Average runs in each over\n",
    "fig=plt.figure(figsize=(10,5))\n",
    "plt.ylim(0,12)\n",
    "plt.vlines(runsperover.keys(),0,runsperover.values,color=\"red\",linestyles='solid')\n",
    "plt.scatter(runsperover.keys()[:20],runsperover, marker=\"*\",color=\"red\")\n",
    "plt.title('Average runs per over')\n",
    "plt.xlabel('Over')\n",
    "plt.ylabel('Runs')\n",
    "plt.show()"
   ]
  },
  {
   "cell_type": "markdown",
   "metadata": {},
   "source": [
    "# TOTAL MATCHES IN EACH CITY"
   ]
  },
  {
   "cell_type": "code",
   "execution_count": 35,
   "metadata": {},
   "outputs": [
    {
     "data": {
      "text/plain": [
       "city          \n",
       "Bloemfontein        2\n",
       "Kimberley           3\n",
       "East London         3\n",
       "Nagpur              3\n",
       "Kanpur              4\n",
       "Kochi               5\n",
       "Sharjah             6\n",
       "Raipur              6\n",
       "Abu Dhabi           7\n",
       "Ranchi              7\n",
       "Cape Town           7\n",
       "Port Elizabeth      7\n",
       "Cuttack             7\n",
       "Dubai               7\n",
       "Johannesburg        8\n",
       "Dharamsala          9\n",
       "Indore              9\n",
       "Rajkot             10\n",
       "Mohali             10\n",
       "Centurion          12\n",
       "Ahmedabad          12\n",
       "Visakhapatnam      13\n",
       "Bengaluru          14\n",
       "Durban             15\n",
       "Pune               38\n",
       "Chandigarh         46\n",
       "Jaipur             47\n",
       "Chennai            57\n",
       "Hyderabad          64\n",
       "Bangalore          66\n",
       "Delhi              74\n",
       "Kolkata            77\n",
       "Mumbai            101\n",
       "dtype: int64"
      ]
     },
     "execution_count": 35,
     "metadata": {},
     "output_type": "execute_result"
    }
   ],
   "source": [
    "#total matches in each city\n",
    "cities=matches[['city']].value_counts().sort_values()\n",
    "cities"
   ]
  },
  {
   "cell_type": "code",
   "execution_count": 36,
   "metadata": {},
   "outputs": [
    {
     "data": {
      "image/png": "[encoded data removed]",
      "text/plain": [
       "<Figure size 720x720 with 1 Axes>"
      ]
     },
     "metadata": {
      "needs_background": "light"
     },
     "output_type": "display_data"
    }
   ],
   "source": [
    "#plotting total matches in each city in horizontal bar graph\n",
    "fig=plt.figure(figsize=(10,10))\n",
    "cities.plot.barh()\n",
    "plt.title(\"Total matches\")\n",
    "plt.show()"
   ]
  },
  {
   "cell_type": "markdown",
   "metadata": {},
   "source": [
    "# TOTAL WINS BY EACH TEAM (2008-19)"
   ]
  },
  {
   "cell_type": "code",
   "execution_count": 37,
   "metadata": {},
   "outputs": [
    {
     "data": {
      "text/plain": [
       "Mumbai Indians                 109\n",
       "Chennai Super Kings            100\n",
       "Kolkata Knight Riders           92\n",
       "Sunrisers Hyderabad             87\n",
       "Royal Challengers Bangalore     84\n",
       "Kings XI Punjab                 82\n",
       "Delhi Capitals                  77\n",
       "Rajasthan Royals                75\n",
       "Rising Pune Supergiant          15\n",
       "Gujarat Lions                   13\n",
       "Pune Warriors                   12\n",
       "Kochi Tuskers Kerala             6\n",
       "DRAW                             4\n",
       "Name: winner, dtype: int64"
      ]
     },
     "execution_count": 37,
     "metadata": {},
     "output_type": "execute_result"
    }
   ],
   "source": [
    "#number of wins by each team\n",
    "winsbyteam=matches['winner'].value_counts()\n",
    "winsbyteam"
   ]
  },
  {
   "cell_type": "code",
   "execution_count": 38,
   "metadata": {},
   "outputs": [
    {
     "data": {
      "text/plain": [
       "Text(0.5, 1.0, 'Total wins by each team')"
      ]
     },
     "execution_count": 38,
     "metadata": {},
     "output_type": "execute_result"
    },
    {
     "data": {
      "image/png": "[encoded data removed]",
      "text/plain": [
       "<Figure size 432x288 with 1 Axes>"
      ]
     },
     "metadata": {},
     "output_type": "display_data"
    }
   ],
   "source": [
    "#plotting number of wins by each team in pie chart\n",
    "teams=[\"MI\",\"CSK\",\"KKR\",\"SRH\",\"RCB\",\"KXIP\",\"DC\",\"RR\",\"RPS\",\"GL\",\"PW\",\"KTK\",\"DRAW\"]\n",
    "plt.pie(winsbyteam,labels=teams,radius=2,autopct='%0.1f%%')\n",
    "plt.title(\"Total wins by each team\")"
   ]
  },
  {
   "cell_type": "markdown",
   "metadata": {},
   "source": [
    "# HYPOTHESIS TESTING"
   ]
  },
  {
   "cell_type": "code",
   "execution_count": 39,
   "metadata": {},
   "outputs": [
    {
     "name": "stdout",
     "output_type": "stream",
     "text": [
      "STATEMENT OF HYPOTHESIS\n",
      "runs scored at first 10 overs is equal to runs scored at last 5 overs\n",
      "\n",
      "\n",
      "Z =  0.004765708833135246\n",
      "\n",
      "Since calculated z value is smaller than critical z value ,\n",
      "We accept the hypothesis that runs scored at first 10 overs is equal to runs scored at last 5 overs.\n"
     ]
    }
   ],
   "source": [
    "#Z TEST :\n",
    "#Alpha level: 0.05\n",
    "#Critical value of z: 1.96\n",
    "print(\"STATEMENT OF HYPOTHESIS\")\n",
    "print(\"runs scored at first 10 overs is equal to runs scored at last 5 overs\")\n",
    "print(\"\\n\")\n",
    "\n",
    "innings=2\n",
    "over_1to10=deliveries[deliveries['over']<=10].groupby('match_id')[['total_runs']].sum()\n",
    "over_1to10=over_1to10/innings\n",
    "over_16to20=deliveries[deliveries['over']>15].groupby('match_id')[['total_runs']].sum()\n",
    "o=over_1to10+over_16to20\n",
    "over_16to20=(o-over_1to10)/innings\n",
    "over_1to10=over_1to10.rename(columns = {'total_runs': '1 to 10'}, inplace = False)\n",
    "over_16to20=over_16to20.rename(columns = {'total_runs': '16 to 20'}, inplace = False)\n",
    "df = pd.concat([over_1to10, over_16to20], axis=1, join='inner')\n",
    "df1=df.describe()\n",
    "\n",
    "#means \n",
    "x1=df1.iloc[1]['1 to 10']\n",
    "x2=df1.iloc[1]['16 to 20']\n",
    "\n",
    "#standard deviations\n",
    "s1=df1.iloc[2]['1 to 10']\n",
    "s2=df1.iloc[2]['16 to 20']\n",
    "\n",
    "#size of sample\n",
    "n1=len(over_1to10.index)\n",
    "n2=len(over_16to20.index)\n",
    "\n",
    "#pooled variance\n",
    "s=((n1-1)*pow(s1,2))+((n2-1)*pow(s2,2))/(n1+n2-2)\n",
    "\n",
    "#Z statistic\n",
    "z_critcal=1.96\n",
    "z1=abs(x1-x2)/pow(pow(s,2)*((1/n1)+(1/n2)),0.5)\n",
    "print(\"Z = \",z1)\n",
    "if(z1<z_critcal):\n",
    "    print(\"\\nSince calculated z value is smaller than critical z value ,\")\n",
    "    print(\"We accept the hypothesis that runs scored at first 10 overs is equal to runs scored at last 5 overs.\")\n",
    "else :\n",
    "    print(\"\\nSince calculated z value is greater than critical z value ,\")\n",
    "    print(\"We reject the hypothesis that runs scored at first 10 overs is equal to runs scored at last 5 overs.\")  "
   ]
  },
  {
   "cell_type": "code",
   "execution_count": 40,
   "metadata": {},
   "outputs": [
    {
     "name": "stdout",
     "output_type": "stream",
     "text": [
      "STATEMENT OF HYPOTHESIS\n",
      "Winning the toss leads to the chances of winning\n",
      "\n",
      "\n",
      "Critical value of z:\n",
      "1.96\n",
      "Test statistic of z:\n",
      "0.08\n",
      "We are accepting null hypothesis that winning the toss leads to the chance of winning\n"
     ]
    }
   ],
   "source": [
    "print(\"STATEMENT OF HYPOTHESIS\")\n",
    "print(\"Winning the toss leads to the chances of winning\")\n",
    "print(\"\\n\")\n",
    "\n",
    "#Values found from the dataset\n",
    "x1_bar=50.4\n",
    "x2_bar=50.13333\n",
    "n1=15\n",
    "n2=15\n",
    "sig_1=35.25866324\n",
    "sig_2=39.02172777\n",
    "\n",
    "#Finding critical value for 95% confidence interval\n",
    "def z_table(value):\n",
    "   diff=1-(value/100)\n",
    "   x=diff/2\n",
    "   final=1-x\n",
    "   p=norm.ppf(final)\n",
    "   return p\n",
    "print(\"Critical value of z:\")\n",
    "critical_z=z_table(95)\n",
    "print(round(critical_z,2))\n",
    "\n",
    "#Finding the test statistic\n",
    "def z_test(x1_bar,x2_bar,n1,n2,sig_1,sig_2):\n",
    "   num=(abs(x1_bar-x2_bar))\n",
    "   dem=sqrt(((sig_1*2)/n1)+((sig_2*2)/n2))\n",
    "   return num/dem\n",
    "print(\"Test statistic of z:\")\n",
    "z_val=z_test(x1_bar,x2_bar,n1,n2,sig_1,sig_2)\n",
    "print(round(z_val,2))\n",
    "\n",
    "#Result of hypothesis\n",
    "if z_val<critical_z: \n",
    "    print(\"We are accepting null hypothesis that winning the toss leads to the chance of winning\")\n",
    "else:\n",
    "    print(\"We are rejecting null hypothesis that winning the toss leads to the chance of winning\")"
   ]
  },
  {
   "cell_type": "code",
   "execution_count": 41,
   "metadata": {},
   "outputs": [
    {
     "name": "stdout",
     "output_type": "stream",
     "text": [
      "STATEMENT OF HYPOTHESIS\n",
      "Batting first leads to the chances of winning\n",
      "\n",
      "\n",
      "Critical value of z:\n",
      "1.96\n",
      "Test statistic of z:\n",
      "11.32\n",
      "We are rejecting null hypothesis that batting first leads to the chance of winning\n"
     ]
    }
   ],
   "source": [
    "print(\"STATEMENT OF HYPOTHESIS\")\n",
    "print(\"Batting first leads to the chances of winning\")\n",
    "print(\"\\n\")\n",
    "\n",
    "#Values found from the dataset\n",
    "x1_bar=19.5333\n",
    "x2_bar=50.13333\n",
    "n1=15\n",
    "n2=15\n",
    "sig_1=15.76101\n",
    "sig_2=39.02172777\n",
    "\n",
    "#Finding critical value for 95% confidence interval\n",
    "def z_table(value):\n",
    "   diff=1-(value/100)\n",
    "   x=diff/2\n",
    "   final=1-x\n",
    "   p=norm.ppf(final)\n",
    "   return p\n",
    "print(\"Critical value of z:\")\n",
    "critical_z=z_table(95)\n",
    "print(round(critical_z,2))\n",
    "\n",
    "#Finding the test statistic\n",
    "def z_test(x1_bar,x2_bar,n1,n2,sig_1,sig_2):\n",
    "   num=(abs(x1_bar-x2_bar))\n",
    "   dem=sqrt(((sig_1*2)/n1)+((sig_2*2)/n2))\n",
    "   return num/dem\n",
    "print(\"Test statistic of z:\")\n",
    "z_val=z_test(x1_bar,x2_bar,n1,n2,sig_1,sig_2)\n",
    "print(round(z_val,2))\n",
    "\n",
    "#Result of hypothesis\n",
    "if z_val<critical_z: \n",
    "    print(\"We are accepting null hypothesis that batting first leads to the chance of winning\")\n",
    "else:\n",
    "    print(\"We are rejecting null hypothesis that batting first leads to the chance of winning\")"
   ]
  }
 ],
 "metadata": {
  "kernelspec": {
   "display_name": "Python 3",
   "language": "python",
   "name": "python3"
  },
  "language_info": {
   "codemirror_mode": {
    "name": "ipython",
    "version": 3
   },
   "file_extension": ".py",
   "mimetype": "text/x-python",
   "name": "python",
   "nbconvert_exporter": "python",
   "pygments_lexer": "ipython3",
   "version": "3.8.8"
  }
 },
 "nbformat": 4,
 "nbformat_minor": 4
}
